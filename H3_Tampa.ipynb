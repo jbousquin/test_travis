{
  "nbformat": 4,
  "nbformat_minor": 0,
  "metadata": {
    "colab": {
      "name": "Untitled0.ipynb",
      "provenance": [],
      "authorship_tag": "ABX9TyN3sGQXZaZFMZFKigDBH8lC",
      "include_colab_link": true
    },
    "kernelspec": {
      "name": "python3",
      "display_name": "Python 3"
    }
  },
  "cells": [
    {
      "cell_type": "markdown",
      "metadata": {
        "id": "view-in-github",
        "colab_type": "text"
      },
      "source": [
        "<a href=\"https://colab.research.google.com/github/jbousquin/test_travis/blob/master/H3_Tampa.ipynb\" target=\"_parent\"><img src=\"https://colab.research.google.com/assets/colab-badge.svg\" alt=\"Open In Colab\"/></a>"
      ]
    },
    {
      "cell_type": "code",
      "metadata": {
        "id": "J86T_3AbbbBi",
        "colab_type": "code",
        "colab": {}
      },
      "source": [
        "#!pip install geopandas\n",
        "#!pip install h3"
      ],
      "execution_count": 6,
      "outputs": []
    },
    {
      "cell_type": "code",
      "metadata": {
        "id": "HVh1UzwPb-xr",
        "colab_type": "code",
        "colab": {}
      },
      "source": [
        "import geopandas\n",
        "import h3\n",
        "import matplotlib.pyplot as plt"
      ],
      "execution_count": 7,
      "outputs": []
    },
    {
      "cell_type": "code",
      "metadata": {
        "id": "EoMH9F4ddh_c",
        "colab_type": "code",
        "colab": {}
      },
      "source": [
        "# Read stations into geopandas dataframe\n",
        "shp = r'C:\\ArcGIS\\Local_GIS\\H3\\Temperature3\\station_points_combined.shp'\n",
        "gdf = geopandas.read_file(shp)"
      ],
      "execution_count": 9,
      "outputs": []
    },
    {
      "cell_type": "code",
      "metadata": {
        "id": "lOMWAegMhFvW",
        "colab_type": "code",
        "colab": {}
      },
      "source": [
        "# Hex ID for points\n",
        "aperture_size = 10  # Resolution\n",
        "hex_col = 'hex' + str(aperture_size)  # New column name\n",
        "# New column with hex id (1639 unique, 3901 total)\n",
        "gdf[hex_col] = gdf.apply(lambda x: h3.geo_to_h3(x.geometry.y,\n",
        "                                                x.geometry.x,\n",
        "                                                aperture_size), 1)\n",
        "# Aggregate points within same hex\n",
        "gdf_hex = gdf.groupby(hex_col).size().to_frame('cnt').reset_index()"
      ],
      "execution_count": null,
      "outputs": []
    },
    {
      "cell_type": "code",
      "metadata": {
        "id": "N5KeX4O8hc4u",
        "colab_type": "code",
        "colab": {}
      },
      "source": [
        "# Map it\n",
        "# Hex to lat/lng to map for mapping\n",
        "gdf_hex['lat'] = gdf_hex[hex_col].apply(lambda x: h3.h3_to_geo(x)[0])\n",
        "gdf_hex['lng'] = gdf_hex[hex_col].apply(lambda x: h3.h3_to_geo(x)[1])\n",
        "\n",
        "# Plot the hexagons based on 'cnt' field\n",
        "plot_scatter(gdf_hex, metric_col='cnt', marker='o', figsize=(17,15))\n",
        "plt.title('Tampa bay temperature station density')"
      ],
      "execution_count": 12,
      "outputs": []
    },
    {
      "cell_type": "code",
      "metadata": {
        "id": "cTYqPn3GiGIK",
        "colab_type": "code",
        "colab": {}
      },
      "source": [
        ""
      ],
      "execution_count": null,
      "outputs": []
    }
  ]
}